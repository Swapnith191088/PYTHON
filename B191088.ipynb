{
 "cells": [
  {
   "cell_type": "code",
   "execution_count": 8,
   "metadata": {},
   "outputs": [],
   "source": [
    "import pandas as pd\n"
   ]
  },
  {
   "cell_type": "code",
   "execution_count": 16,
   "metadata": {},
   "outputs": [],
   "source": [
    "df = pd.read_csv(\"/home/cse-lab/MELBOURNE_HOUSE_PRICES_LESS.csv\")"
   ]
  },
  {
   "cell_type": "code",
   "execution_count": null,
   "metadata": {},
   "outputs": [],
   "source": [
    "df = df.dropna()"
   ]
  },
  {
   "cell_type": "code",
   "execution_count": 22,
   "metadata": {
    "scrolled": true
   },
   "outputs": [
    {
     "data": {
      "text/html": [
       "<div>\n",
       "<style scoped>\n",
       "    .dataframe tbody tr th:only-of-type {\n",
       "        vertical-align: middle;\n",
       "    }\n",
       "\n",
       "    .dataframe tbody tr th {\n",
       "        vertical-align: top;\n",
       "    }\n",
       "\n",
       "    .dataframe thead th {\n",
       "        text-align: right;\n",
       "    }\n",
       "</style>\n",
       "<table border=\"1\" class=\"dataframe\">\n",
       "  <thead>\n",
       "    <tr style=\"text-align: right;\">\n",
       "      <th></th>\n",
       "      <th>Suburb</th>\n",
       "      <th>Address</th>\n",
       "      <th>Rooms</th>\n",
       "      <th>Type</th>\n",
       "      <th>Price</th>\n",
       "      <th>Method</th>\n",
       "      <th>SellerG</th>\n",
       "      <th>Date</th>\n",
       "      <th>Postcode</th>\n",
       "      <th>Regionname</th>\n",
       "      <th>Propertycount</th>\n",
       "      <th>Distance</th>\n",
       "      <th>CouncilArea</th>\n",
       "    </tr>\n",
       "  </thead>\n",
       "  <tbody>\n",
       "    <tr>\n",
       "      <th>0</th>\n",
       "      <td>Abbotsford</td>\n",
       "      <td>49 Lithgow St</td>\n",
       "      <td>3</td>\n",
       "      <td>h</td>\n",
       "      <td>1490000.0</td>\n",
       "      <td>S</td>\n",
       "      <td>Jellis</td>\n",
       "      <td>1/04/2017</td>\n",
       "      <td>3067</td>\n",
       "      <td>Northern Metropolitan</td>\n",
       "      <td>4019</td>\n",
       "      <td>3.0</td>\n",
       "      <td>Yarra City Council</td>\n",
       "    </tr>\n",
       "    <tr>\n",
       "      <th>1</th>\n",
       "      <td>Abbotsford</td>\n",
       "      <td>59A Turner St</td>\n",
       "      <td>3</td>\n",
       "      <td>h</td>\n",
       "      <td>1220000.0</td>\n",
       "      <td>S</td>\n",
       "      <td>Marshall</td>\n",
       "      <td>1/04/2017</td>\n",
       "      <td>3067</td>\n",
       "      <td>Northern Metropolitan</td>\n",
       "      <td>4019</td>\n",
       "      <td>3.0</td>\n",
       "      <td>Yarra City Council</td>\n",
       "    </tr>\n",
       "    <tr>\n",
       "      <th>2</th>\n",
       "      <td>Abbotsford</td>\n",
       "      <td>119B Yarra St</td>\n",
       "      <td>3</td>\n",
       "      <td>h</td>\n",
       "      <td>1420000.0</td>\n",
       "      <td>S</td>\n",
       "      <td>Nelson</td>\n",
       "      <td>1/04/2017</td>\n",
       "      <td>3067</td>\n",
       "      <td>Northern Metropolitan</td>\n",
       "      <td>4019</td>\n",
       "      <td>3.0</td>\n",
       "      <td>Yarra City Council</td>\n",
       "    </tr>\n",
       "    <tr>\n",
       "      <th>3</th>\n",
       "      <td>Aberfeldie</td>\n",
       "      <td>68 Vida St</td>\n",
       "      <td>3</td>\n",
       "      <td>h</td>\n",
       "      <td>1515000.0</td>\n",
       "      <td>S</td>\n",
       "      <td>Barry</td>\n",
       "      <td>1/04/2017</td>\n",
       "      <td>3040</td>\n",
       "      <td>Western Metropolitan</td>\n",
       "      <td>1543</td>\n",
       "      <td>7.5</td>\n",
       "      <td>Moonee Valley City Council</td>\n",
       "    </tr>\n",
       "    <tr>\n",
       "      <th>4</th>\n",
       "      <td>Airport West</td>\n",
       "      <td>92 Clydesdale Rd</td>\n",
       "      <td>2</td>\n",
       "      <td>h</td>\n",
       "      <td>670000.0</td>\n",
       "      <td>S</td>\n",
       "      <td>Nelson</td>\n",
       "      <td>1/04/2017</td>\n",
       "      <td>3042</td>\n",
       "      <td>Western Metropolitan</td>\n",
       "      <td>3464</td>\n",
       "      <td>10.4</td>\n",
       "      <td>Moonee Valley City Council</td>\n",
       "    </tr>\n",
       "    <tr>\n",
       "      <th>5</th>\n",
       "      <td>Airport West</td>\n",
       "      <td>4/32 Earl St</td>\n",
       "      <td>2</td>\n",
       "      <td>t</td>\n",
       "      <td>530000.0</td>\n",
       "      <td>S</td>\n",
       "      <td>Jellis</td>\n",
       "      <td>1/04/2017</td>\n",
       "      <td>3042</td>\n",
       "      <td>Western Metropolitan</td>\n",
       "      <td>3464</td>\n",
       "      <td>10.4</td>\n",
       "      <td>Moonee Valley City Council</td>\n",
       "    </tr>\n",
       "    <tr>\n",
       "      <th>6</th>\n",
       "      <td>Airport West</td>\n",
       "      <td>3/74 Hawker St</td>\n",
       "      <td>2</td>\n",
       "      <td>u</td>\n",
       "      <td>540000.0</td>\n",
       "      <td>S</td>\n",
       "      <td>Barry</td>\n",
       "      <td>1/04/2017</td>\n",
       "      <td>3042</td>\n",
       "      <td>Western Metropolitan</td>\n",
       "      <td>3464</td>\n",
       "      <td>10.4</td>\n",
       "      <td>Moonee Valley City Council</td>\n",
       "    </tr>\n",
       "    <tr>\n",
       "      <th>7</th>\n",
       "      <td>Airport West</td>\n",
       "      <td>1/26 Highridge Cr</td>\n",
       "      <td>3</td>\n",
       "      <td>h</td>\n",
       "      <td>715000.0</td>\n",
       "      <td>SP</td>\n",
       "      <td>Nelson</td>\n",
       "      <td>1/04/2017</td>\n",
       "      <td>3042</td>\n",
       "      <td>Western Metropolitan</td>\n",
       "      <td>3464</td>\n",
       "      <td>10.4</td>\n",
       "      <td>Moonee Valley City Council</td>\n",
       "    </tr>\n",
       "    <tr>\n",
       "      <th>8</th>\n",
       "      <td>Albanvale</td>\n",
       "      <td>1 Jackson Cct</td>\n",
       "      <td>6</td>\n",
       "      <td>h</td>\n",
       "      <td>NaN</td>\n",
       "      <td>PI</td>\n",
       "      <td>hockingstuart</td>\n",
       "      <td>1/04/2017</td>\n",
       "      <td>3021</td>\n",
       "      <td>Western Metropolitan</td>\n",
       "      <td>1899</td>\n",
       "      <td>14.0</td>\n",
       "      <td>Brimbank City Council</td>\n",
       "    </tr>\n",
       "    <tr>\n",
       "      <th>9</th>\n",
       "      <td>Albert Park</td>\n",
       "      <td>18 Mills St</td>\n",
       "      <td>3</td>\n",
       "      <td>h</td>\n",
       "      <td>1925000.0</td>\n",
       "      <td>S</td>\n",
       "      <td>Cayzer</td>\n",
       "      <td>1/04/2017</td>\n",
       "      <td>3206</td>\n",
       "      <td>Southern Metropolitan</td>\n",
       "      <td>3280</td>\n",
       "      <td>3.0</td>\n",
       "      <td>Port Phillip City Council</td>\n",
       "    </tr>\n",
       "  </tbody>\n",
       "</table>\n",
       "</div>"
      ],
      "text/plain": [
       "         Suburb            Address  Rooms Type      Price Method  \\\n",
       "0    Abbotsford      49 Lithgow St      3    h  1490000.0      S   \n",
       "1    Abbotsford      59A Turner St      3    h  1220000.0      S   \n",
       "2    Abbotsford      119B Yarra St      3    h  1420000.0      S   \n",
       "3    Aberfeldie         68 Vida St      3    h  1515000.0      S   \n",
       "4  Airport West   92 Clydesdale Rd      2    h   670000.0      S   \n",
       "5  Airport West       4/32 Earl St      2    t   530000.0      S   \n",
       "6  Airport West     3/74 Hawker St      2    u   540000.0      S   \n",
       "7  Airport West  1/26 Highridge Cr      3    h   715000.0     SP   \n",
       "8     Albanvale      1 Jackson Cct      6    h        NaN     PI   \n",
       "9   Albert Park        18 Mills St      3    h  1925000.0      S   \n",
       "\n",
       "         SellerG       Date  Postcode             Regionname  Propertycount  \\\n",
       "0         Jellis  1/04/2017      3067  Northern Metropolitan           4019   \n",
       "1       Marshall  1/04/2017      3067  Northern Metropolitan           4019   \n",
       "2         Nelson  1/04/2017      3067  Northern Metropolitan           4019   \n",
       "3          Barry  1/04/2017      3040   Western Metropolitan           1543   \n",
       "4         Nelson  1/04/2017      3042   Western Metropolitan           3464   \n",
       "5         Jellis  1/04/2017      3042   Western Metropolitan           3464   \n",
       "6          Barry  1/04/2017      3042   Western Metropolitan           3464   \n",
       "7         Nelson  1/04/2017      3042   Western Metropolitan           3464   \n",
       "8  hockingstuart  1/04/2017      3021   Western Metropolitan           1899   \n",
       "9         Cayzer  1/04/2017      3206  Southern Metropolitan           3280   \n",
       "\n",
       "   Distance                 CouncilArea  \n",
       "0       3.0          Yarra City Council  \n",
       "1       3.0          Yarra City Council  \n",
       "2       3.0          Yarra City Council  \n",
       "3       7.5  Moonee Valley City Council  \n",
       "4      10.4  Moonee Valley City Council  \n",
       "5      10.4  Moonee Valley City Council  \n",
       "6      10.4  Moonee Valley City Council  \n",
       "7      10.4  Moonee Valley City Council  \n",
       "8      14.0       Brimbank City Council  \n",
       "9       3.0   Port Phillip City Council  "
      ]
     },
     "execution_count": 22,
     "metadata": {},
     "output_type": "execute_result"
    }
   ],
   "source": [
    "df.head(10)"
   ]
  },
  {
   "cell_type": "code",
   "execution_count": 25,
   "metadata": {},
   "outputs": [
    {
     "name": "stdout",
     "output_type": "stream",
     "text": [
      "(63023, 13)\n",
      "Index(['Suburb', 'Address', 'Rooms', 'Type', 'Price', 'Method', 'SellerG',\n",
      "       'Date', 'Postcode', 'Regionname', 'Propertycount', 'Distance',\n",
      "       'CouncilArea'],\n",
      "      dtype='object')\n"
     ]
    }
   ],
   "source": [
    "print(df.shape)\n",
    "print(df.columns)"
   ]
  },
  {
   "cell_type": "code",
   "execution_count": 33,
   "metadata": {},
   "outputs": [
    {
     "name": "stdout",
     "output_type": "stream",
     "text": [
      "0        1490000.0\n",
      "1        1220000.0\n",
      "2        1420000.0\n",
      "3        1515000.0\n",
      "4         670000.0\n",
      "           ...    \n",
      "63018     566000.0\n",
      "63019     500000.0\n",
      "63020     545000.0\n",
      "63021          NaN\n",
      "63022          NaN\n",
      "Name: Price, Length: 63023, dtype: float64\n",
      "<bound method Series.mean of 0        1490000.0\n",
      "1        1220000.0\n",
      "2        1420000.0\n",
      "3        1515000.0\n",
      "4         670000.0\n",
      "           ...    \n",
      "63018     566000.0\n",
      "63019     500000.0\n",
      "63020     545000.0\n",
      "63021          NaN\n",
      "63022          NaN\n",
      "Name: Price, Length: 63023, dtype: float64>\n"
     ]
    }
   ],
   "source": [
    "price = df[\"Price\"]\n",
    "print(price)"
   ]
  },
  {
   "cell_type": "code",
   "execution_count": 26,
   "metadata": {},
   "outputs": [
    {
     "name": "stdout",
     "output_type": "stream",
     "text": [
      "0              Abbotsford\n",
      "1              Abbotsford\n",
      "2              Abbotsford\n",
      "3              Aberfeldie\n",
      "4            Airport West\n",
      "               ...       \n",
      "63018       Roxburgh Park\n",
      "63019       Roxburgh Park\n",
      "63020       Roxburgh Park\n",
      "63021          Thomastown\n",
      "63022    Williams Landing\n",
      "Name: Suburb, Length: 63023, dtype: object\n"
     ]
    }
   ],
   "source": [
    "suburb = df[\"Suburb\"]\n",
    "print(suburb)"
   ]
  },
  {
   "cell_type": "code",
   "execution_count": 51,
   "metadata": {},
   "outputs": [
    {
     "data": {
      "text/plain": [
       "{'Reservoir': 1241,\n",
       " 'Bentleigh East': 845,\n",
       " 'Mount Waverley': 831,\n",
       " 'Richmond': 822,\n",
       " 'Glen Waverley': 819,\n",
       " 'Craigieburn': 783,\n",
       " 'Preston': 699,\n",
       " 'Kew': 668,\n",
       " 'Glen Iris': 662,\n",
       " 'Brunswick': 644,\n",
       " 'Northcote': 613,\n",
       " 'South Yarra': 603,\n",
       " 'Brighton': 602,\n",
       " 'Hawthorn': 601,\n",
       " 'Balwyn North': 595,\n",
       " 'Coburg': 592,\n",
       " 'Camberwell': 573,\n",
       " 'Glenroy': 570,\n",
       " 'Cheltenham': 569,\n",
       " 'Essendon': 568,\n",
       " 'Brighton East': 559,\n",
       " 'Bundoora': 558,\n",
       " 'Mill Park': 554,\n",
       " 'Pascoe Vale': 529,\n",
       " 'Epping': 511,\n",
       " 'St Kilda': 507,\n",
       " 'Port Melbourne': 506,\n",
       " 'Malvern East': 505,\n",
       " 'Doncaster East': 492,\n",
       " 'Hoppers Crossing': 489,\n",
       " 'Thornbury': 473,\n",
       " 'Prahran': 468,\n",
       " 'Bentleigh': 457,\n",
       " 'Balwyn': 433,\n",
       " 'Yarraville': 432,\n",
       " 'Elwood': 428,\n",
       " 'Greensborough': 420,\n",
       " 'St Albans': 411,\n",
       " 'Surrey Hills': 407,\n",
       " 'Werribee': 397,\n",
       " 'Hawthorn East': 387,\n",
       " 'Toorak': 385,\n",
       " 'Moonee Ponds': 383,\n",
       " 'Frankston': 382,\n",
       " 'Mitcham': 378,\n",
       " 'Carnegie': 375,\n",
       " 'Doncaster': 374,\n",
       " 'Hampton': 374,\n",
       " 'Footscray': 372,\n",
       " 'Mulgrave': 370,\n",
       " 'Lalor': 366,\n",
       " 'Mentone': 359,\n",
       " 'Ascot Vale': 358,\n",
       " 'Brunswick West': 352,\n",
       " 'Newport': 345,\n",
       " 'Keilor East': 341,\n",
       " 'Thomastown': 341,\n",
       " 'South Morang': 333,\n",
       " 'Croydon': 330,\n",
       " 'Burwood': 328,\n",
       " 'Highett': 326,\n",
       " 'Armadale': 325,\n",
       " 'Maribyrnong': 320,\n",
       " 'Ringwood': 320,\n",
       " 'Williamstown': 317,\n",
       " 'Fawkner': 314,\n",
       " 'Blackburn': 313,\n",
       " 'Ivanhoe': 311,\n",
       " 'Beaumaris': 310,\n",
       " 'Point Cook': 309,\n",
       " 'Sunshine West': 309,\n",
       " 'Parkdale': 307,\n",
       " 'Kensington': 292,\n",
       " 'Melbourne': 287,\n",
       " 'Fitzroy North': 287,\n",
       " 'Sunbury': 284,\n",
       " 'West Footscray': 284,\n",
       " 'Malvern': 283,\n",
       " 'Templestowe Lower': 283,\n",
       " 'Sandringham': 278,\n",
       " 'Templestowe': 272,\n",
       " 'Mernda': 270,\n",
       " 'Greenvale': 266,\n",
       " 'Wheelers Hill': 265,\n",
       " 'Roxburgh Park': 263,\n",
       " 'Eltham': 258,\n",
       " 'Maidstone': 257,\n",
       " 'Sunshine': 256,\n",
       " 'South Melbourne': 255,\n",
       " 'Broadmeadows': 253,\n",
       " 'Strathmore': 251,\n",
       " 'Murrumbeena': 249,\n",
       " 'Brunswick East': 247,\n",
       " 'Noble Park': 246,\n",
       " 'Airport West': 238,\n",
       " 'Coburg North': 236,\n",
       " 'Hillside': 234,\n",
       " 'Blackburn South': 234,\n",
       " 'Avondale Heights': 231,\n",
       " 'Rosanna': 231,\n",
       " 'Nunawading': 229,\n",
       " 'Bulleen': 222,\n",
       " 'Montmorency': 221,\n",
       " 'Heidelberg Heights': 219,\n",
       " 'Ashburton': 218,\n",
       " 'Fitzroy': 213,\n",
       " 'Forest Hill': 212,\n",
       " 'Altona North': 211,\n",
       " 'Ringwood East': 210,\n",
       " 'Sunshine North': 210,\n",
       " 'Elsternwick': 207,\n",
       " 'Ormond': 206,\n",
       " 'Wantirna South': 206,\n",
       " 'North Melbourne': 205,\n",
       " 'Kew East': 202,\n",
       " 'Donvale': 200,\n",
       " 'Dingley Village': 200,\n",
       " 'Niddrie': 199,\n",
       " 'Gladstone Park': 198,\n",
       " 'Ashwood': 195,\n",
       " 'Blackburn North': 191,\n",
       " 'MacLeod': 191,\n",
       " 'Clifton Hill': 190,\n",
       " 'Mordialloc': 188,\n",
       " 'Canterbury': 188,\n",
       " 'Albert Park': 185,\n",
       " 'Oak Park': 183,\n",
       " 'Heathmont': 183,\n",
       " 'Abbotsford': 183,\n",
       " 'Windsor': 181,\n",
       " 'Taylors Lakes': 181,\n",
       " 'Burwood East': 181,\n",
       " 'Dandenong North': 178,\n",
       " 'Oakleigh South': 177,\n",
       " 'Collingwood': 176,\n",
       " 'Clayton': 173,\n",
       " 'Tullamarine': 172,\n",
       " 'Dandenong': 171,\n",
       " 'Caulfield South': 171,\n",
       " 'Heidelberg West': 170,\n",
       " 'Moorabbin': 169,\n",
       " 'Chadstone': 167,\n",
       " 'Black Rock': 165,\n",
       " 'Wollert': 164,\n",
       " 'Altona': 161,\n",
       " 'Wyndham Vale': 161,\n",
       " 'Ferntree Gully': 161,\n",
       " 'Box Hill': 159,\n",
       " 'Fairfield': 158,\n",
       " 'Clayton South': 157,\n",
       " 'Seddon': 156,\n",
       " 'Carlton North': 154,\n",
       " 'Wantirna': 152,\n",
       " 'Keysborough': 149,\n",
       " 'Springvale': 149,\n",
       " 'Mont Albert': 149,\n",
       " 'Heidelberg': 148,\n",
       " 'Carlton': 148,\n",
       " 'Hampton East': 148,\n",
       " 'Vermont': 147,\n",
       " 'Seaford': 146,\n",
       " 'Tarneit': 146,\n",
       " 'Boronia': 145,\n",
       " 'Flemington': 145,\n",
       " 'Braybrook': 144,\n",
       " 'Vermont South': 143,\n",
       " 'Oakleigh': 142,\n",
       " 'Hadfield': 142,\n",
       " 'McKinnon': 142,\n",
       " 'Frankston South': 140,\n",
       " 'Deer Park': 140,\n",
       " 'Westmeadows': 137,\n",
       " 'Berwick': 137,\n",
       " 'Edithvale': 136,\n",
       " 'Viewbank': 135,\n",
       " 'Mooroolbark': 134,\n",
       " 'Keilor Downs': 132,\n",
       " 'Watsonia': 131,\n",
       " 'Aspendale': 127,\n",
       " 'Sydenham': 127,\n",
       " 'Doreen': 125,\n",
       " 'Bayswater': 125,\n",
       " 'Chelsea': 123,\n",
       " 'Melton South': 121,\n",
       " 'Rowville': 120,\n",
       " 'Kingsville': 118,\n",
       " 'Oakleigh East': 117,\n",
       " 'Southbank': 117,\n",
       " 'Ardeer': 117,\n",
       " 'Taylors Hill': 114,\n",
       " 'Meadow Heights': 112,\n",
       " 'Caulfield North': 111,\n",
       " 'Aberfeldie': 111,\n",
       " 'Alphington': 110,\n",
       " 'Albion': 99,\n",
       " 'Ringwood North': 99,\n",
       " 'Balaclava': 96,\n",
       " 'Hughesdale': 96,\n",
       " 'Middle Park': 95,\n",
       " 'Caroline Springs': 94,\n",
       " 'Gisborne': 90,\n",
       " 'Eltham North': 90,\n",
       " 'Dallas': 89,\n",
       " 'Clarinda': 88,\n",
       " 'West Melbourne': 88,\n",
       " 'Glen Huntly': 87,\n",
       " 'Diamond Creek': 86,\n",
       " 'Ivanhoe East': 86,\n",
       " 'Melton': 85,\n",
       " 'Altona Meadows': 85,\n",
       " 'Carrum': 85,\n",
       " 'East Melbourne': 83,\n",
       " 'Kings Park': 80,\n",
       " 'Parkville': 80,\n",
       " 'Watsonia North': 80,\n",
       " 'Jacana': 79,\n",
       " 'Endeavour Hills': 78,\n",
       " 'Delahey': 77,\n",
       " 'Keilor': 76,\n",
       " 'Gowanbrae': 76,\n",
       " 'Yallambie': 76,\n",
       " 'Spotswood': 76,\n",
       " 'Briar Hill': 74,\n",
       " 'Bonbeach': 74,\n",
       " 'Carrum Downs': 73,\n",
       " 'Eaglemont': 73,\n",
       " 'Narre Warren': 72,\n",
       " 'Melton West': 71,\n",
       " 'Lower Plenty': 68,\n",
       " 'Doveton': 66,\n",
       " 'Brooklyn': 65,\n",
       " 'Essendon West': 64,\n",
       " 'Aspendale Gardens': 64,\n",
       " 'Knoxfield': 63,\n",
       " 'Cremorne': 63,\n",
       " 'Essendon North': 63,\n",
       " 'Croydon North': 62,\n",
       " 'Cairnlea': 62,\n",
       " 'Truganina': 61,\n",
       " 'Kingsbury': 60,\n",
       " 'Bayswater North': 57,\n",
       " 'South Kingsville': 57,\n",
       " 'Springvale South': 55,\n",
       " 'Kealba': 54,\n",
       " 'Bellfield': 53,\n",
       " 'Attwood': 52,\n",
       " 'Kilsyth': 51,\n",
       " 'Keilor Park': 51,\n",
       " 'Deepdene': 49,\n",
       " 'Scoresby': 49,\n",
       " 'Derrimut': 46,\n",
       " 'Huntingdale': 46,\n",
       " 'Pakenham': 45,\n",
       " 'Chelsea Heights': 45,\n",
       " 'Wallan': 45,\n",
       " 'Mickleham': 44,\n",
       " 'Notting Hill': 43,\n",
       " 'Croydon South': 43,\n",
       " 'Patterson Lakes': 42,\n",
       " 'Warrandyte': 40,\n",
       " 'Chirnside Park': 38,\n",
       " 'Frankston North': 38,\n",
       " 'Burnside Heights': 37,\n",
       " 'Albanvale': 37,\n",
       " 'Kurunjang': 37,\n",
       " 'Langwarrin': 37,\n",
       " 'Williamstown North': 34,\n",
       " 'St Helena': 34,\n",
       " 'Caulfield': 33,\n",
       " 'Princes Hill': 32,\n",
       " 'Seaholme': 31,\n",
       " 'Croydon Hills': 30,\n",
       " 'Caulfield East': 29,\n",
       " 'Macleod': 28,\n",
       " 'Hampton Park': 27,\n",
       " 'Campbellfield': 27,\n",
       " 'Travancore': 26,\n",
       " 'Plumpton': 26,\n",
       " 'Cranbourne': 26,\n",
       " 'Kooyong': 25,\n",
       " 'Ripponlea': 24,\n",
       " 'Lilydale': 23,\n",
       " 'Research': 22,\n",
       " 'Hallam': 22,\n",
       " 'Gardenvale': 22,\n",
       " 'Laverton': 22,\n",
       " 'Williams Landing': 21,\n",
       " 'Docklands': 20,\n",
       " 'Waterways': 20,\n",
       " 'Strathmore Heights': 20,\n",
       " 'Keilor Lodge': 19,\n",
       " 'Burnley': 19,\n",
       " 'Riddells Creek': 19,\n",
       " 'Burnside': 18,\n",
       " 'Cranbourne North': 17,\n",
       " 'Heatherton': 17,\n",
       " 'New Gisborne': 16,\n",
       " 'Cranbourne West': 15,\n",
       " 'Warranwood': 15,\n",
       " 'Coolaroo': 15,\n",
       " 'Manor Lakes': 15,\n",
       " 'The Basin': 14,\n",
       " 'Beaconsfield': 14,\n",
       " 'Bacchus Marsh': 13,\n",
       " 'Plenty': 12,\n",
       " 'North Warrandyte': 12,\n",
       " 'Skye': 12,\n",
       " 'Seabrook': 12,\n",
       " 'Wonga Park': 11,\n",
       " 'Officer': 10,\n",
       " 'Diggers Rest': 10,\n",
       " 'Rockbank': 10,\n",
       " 'Cranbourne East': 10,\n",
       " 'Brookfield': 9,\n",
       " 'Emerald': 9,\n",
       " 'Wattle Glen': 9,\n",
       " 'Eumemmerring': 9,\n",
       " 'Mount Evelyn': 8,\n",
       " 'Lysterfield': 8,\n",
       " 'Healesville': 7,\n",
       " 'Sandhurst': 7,\n",
       " 'Clyde North': 6,\n",
       " 'Montrose': 6,\n",
       " 'Upwey': 6,\n",
       " 'Tecoma': 6,\n",
       " 'Whittlesea': 6,\n",
       " 'Lynbrook': 6,\n",
       " 'Bullengarook': 5,\n",
       " 'Oaklands Junction': 5,\n",
       " 'Lyndhurst': 5,\n",
       " 'Hurstbridge': 5,\n",
       " 'Eynesbury': 4,\n",
       " 'Werribee South': 4,\n",
       " 'Gisborne South': 4,\n",
       " 'Beaconsfield Upper': 4,\n",
       " 'Monbulk': 4,\n",
       " 'Bulla': 4,\n",
       " 'Botanic Ridge': 3,\n",
       " 'Kalkallo': 3,\n",
       " 'Silvan': 3,\n",
       " 'Yarra Glen': 3,\n",
       " 'Coldstream': 3,\n",
       " 'Yan Yean': 3,\n",
       " 'Darley': 3,\n",
       " 'Belgrave': 2,\n",
       " 'Park Orchards': 2,\n",
       " 'Olinda': 2,\n",
       " 'Warburton': 2,\n",
       " 'Chintin': 2,\n",
       " 'Panton Hill': 2,\n",
       " 'Woori Yallock': 2,\n",
       " 'Kilsyth South': 2,\n",
       " 'Cockatoo': 2,\n",
       " 'Ferny Creek': 2,\n",
       " 'Cranbourne South': 2,\n",
       " 'Seville': 2,\n",
       " 'Mount Dandenong': 2,\n",
       " 'Wildwood': 1,\n",
       " 'Yarra Junction': 1,\n",
       " 'Warrandyte South': 1,\n",
       " 'Kallista': 1,\n",
       " 'Yarrambat': 1,\n",
       " 'Guys Hill': 1,\n",
       " 'Menzies Creek': 1,\n",
       " 'Hopetoun Park': 1,\n",
       " 'viewbank': 1,\n",
       " 'Belgrave Heights': 1,\n",
       " 'croydon': 1,\n",
       " 'Maddingley': 1,\n",
       " 'Kalorama': 1,\n",
       " 'Wandin North': 1,\n",
       " 'Belgrave South': 1,\n",
       " 'Pentland Hills': 1,\n",
       " 'Warneet': 1,\n",
       " 'Avonsleigh': 1,\n",
       " 'Don Valley': 1,\n",
       " 'Toolern Vale': 1,\n",
       " 'Lysterfield South': 1,\n",
       " 'Castella': 1,\n",
       " 'Gembrook': 1}"
      ]
     },
     "execution_count": 51,
     "metadata": {},
     "output_type": "execute_result"
    }
   ],
   "source": [
    "suburb_counts = suburb.value_counts()\n",
    "#print(dict(suburb_counts))\n",
    "dict(suburb_counts)"
   ]
  },
  {
   "cell_type": "code",
   "execution_count": 37,
   "metadata": {},
   "outputs": [],
   "source": [
    "rooms = df[\"Rooms\"]"
   ]
  },
  {
   "cell_type": "code",
   "execution_count": 44,
   "metadata": {},
   "outputs": [
    {
     "name": "stdout",
     "output_type": "stream",
     "text": [
      "997898.2414882415\n",
      "830000.0\n",
      "0    600000.0\n",
      "dtype: float64\n",
      "593498.9190372757\n"
     ]
    }
   ],
   "source": [
    "#print(\"Hello\")\n",
    "print(price.mean())\n",
    "print(price.median())\n",
    "print(price.mode())\n",
    "print(price.std())"
   ]
  },
  {
   "cell_type": "code",
   "execution_count": null,
   "metadata": {},
   "outputs": [],
   "source": []
  },
  {
   "cell_type": "code",
   "execution_count": 39,
   "metadata": {},
   "outputs": [
    {
     "name": "stdout",
     "output_type": "stream",
     "text": [
      "3.110594544848706\n",
      "3.0\n",
      "0    3\n",
      "dtype: int64\n"
     ]
    }
   ],
   "source": [
    "print(rooms.mean())\n",
    "print(rooms.median())\n",
    "print(rooms.mode())"
   ]
  },
  {
   "cell_type": "code",
   "execution_count": 53,
   "metadata": {},
   "outputs": [
    {
     "name": "stdout",
     "output_type": "stream",
     "text": [
      "{3: 27950, 4: 15747, 2: 13248, 5: 3434, 1: 2111, 6: 424, 7: 61, 8: 29, 10: 7, 9: 5, 12: 4, 31: 1, 16: 1, 11: 1}\n"
     ]
    }
   ],
   "source": [
    "rooms_count = df[\"Rooms\"].value_counts()\n",
    "rooms_count = dict(rooms_count)\n",
    "print(rooms_count)"
   ]
  },
  {
   "cell_type": "code",
   "execution_count": 56,
   "metadata": {},
   "outputs": [],
   "source": [
    "r = rooms_count.keys()\n",
    "c = rooms_count.values()"
   ]
  },
  {
   "cell_type": "code",
   "execution_count": 40,
   "metadata": {},
   "outputs": [
    {
     "name": "stdout",
     "output_type": "stream",
     "text": [
      "0    Reservoir\n",
      "dtype: object\n"
     ]
    }
   ],
   "source": [
    "print(suburb.mode())"
   ]
  },
  {
   "cell_type": "code",
   "execution_count": 32,
   "metadata": {},
   "outputs": [
    {
     "name": "stdout",
     "output_type": "stream",
     "text": [
      "/home/cse-lab/Desktop/B191088\r\n"
     ]
    }
   ],
   "source": [
    "!pwd"
   ]
  },
  {
   "cell_type": "code",
   "execution_count": 7,
   "metadata": {},
   "outputs": [
    {
     "name": "stdout",
     "output_type": "stream",
     "text": [
      "B191088.ipynb  MELBOURNE_HOUSE_PRICES_LESS.csv\r\n"
     ]
    }
   ],
   "source": [
    "!ls"
   ]
  },
  {
   "cell_type": "code",
   "execution_count": 20,
   "metadata": {},
   "outputs": [],
   "source": [
    "import matplotlib.pyplot as plt"
   ]
  },
  {
   "cell_type": "code",
   "execution_count": 21,
   "metadata": {},
   "outputs": [
    {
     "data": {
      "image/png": "[encoded data removed]",
      "text/plain": [
       "<Figure size 432x288 with 1 Axes>"
      ]
     },
     "metadata": {
      "needs_background": "light"
     },
     "output_type": "display_data"
    }
   ],
   "source": [
    "plt.hist(price)\n",
    "plt.show()"
   ]
  },
  {
   "cell_type": "code",
   "execution_count": 28,
   "metadata": {},
   "outputs": [
    {
     "data": {
      "image/png": "[encoded data removed]",
      "text/plain": [
       "<Figure size 432x288 with 1 Axes>"
      ]
     },
     "metadata": {
      "needs_background": "light"
     },
     "output_type": "display_data"
    }
   ],
   "source": [
    "plt.hist(suburb)\n",
    "plt.show()"
   ]
  },
  {
   "cell_type": "code",
   "execution_count": 90,
   "metadata": {},
   "outputs": [
    {
     "data": {
      "image/png": "[encoded data removed]",
      "text/plain": [
       "<Figure size 432x288 with 1 Axes>"
      ]
     },
     "metadata": {
      "needs_background": "light"
     },
     "output_type": "display_data"
    }
   ],
   "source": [
    "plt.bar(x=r, height=c)\n",
    "plt.show()"
   ]
  },
  {
   "cell_type": "code",
   "execution_count": 60,
   "metadata": {},
   "outputs": [
    {
     "name": "stdout",
     "output_type": "stream",
     "text": [
      "dict_keys(['h', 'u', 't'])\n"
     ]
    }
   ],
   "source": [
    "type = df[\"Type\"].value_counts()\n",
    "type = dict(type)\n",
    "type_keys = type.keys()\n",
    "type_values = type.values()\n",
    "print(type_keys)\n",
    "print(type_values)"
   ]
  },
  {
   "cell_type": "code",
   "execution_count": 62,
   "metadata": {},
   "outputs": [
    {
     "data": {
      "image/png": "[encoded data removed]",
      "text/plain": [
       "<Figure size 432x288 with 1 Axes>"
      ]
     },
     "metadata": {
      "needs_background": "light"
     },
     "output_type": "display_data"
    }
   ],
   "source": [
    "plt.bar(x = type_values, height = type_values)\n",
    "plt.title(\"Room Types\")\n",
    "plt.show()"
   ]
  },
  {
   "cell_type": "code",
   "execution_count": 86,
   "metadata": {},
   "outputs": [
    {
     "data": {
      "image/png": "[encoded data removed]",
      "text/plain": [
       "<Figure size 720x720 with 1 Axes>"
      ]
     },
     "metadata": {},
     "output_type": "display_data"
    }
   ],
   "source": [
    "region_name = df[\"Regionname\"].value_counts()\n",
    "region_name = dict(region_name)\n",
    "region_keys = region_name.keys()\n",
    "region_values = region_name.values()\n",
    "fig = plt.figure(figsize = (10,10))\n",
    "plt.pie(x=region_values, labels = region_keys, explode = [0.2,0.0,0.0,0.0,0.0,0.0,0.0,0.0])\n",
    "plt.title(\"Region Names\")\n",
    "plt.legend()\n",
    "plt.show()"
   ]
  },
  {
   "cell_type": "code",
   "execution_count": 79,
   "metadata": {},
   "outputs": [
    {
     "data": {
      "image/png": "[encoded data removed]",
      "text/plain": [
       "<Figure size 720x720 with 1 Axes>"
      ]
     },
     "metadata": {},
     "output_type": "display_data"
    }
   ],
   "source": [
    "region_values = region_name.values()\n",
    "fig = plt.figure(figsize = (10,10))\n",
    "plt.pie(x=type_values, labels = type_keys, explode = [0.0,0.0,0.0])\n",
    "plt.title(\"House Types\")\n",
    "plt.legend()\n",
    "plt.show()"
   ]
  },
  {
   "cell_type": "code",
   "execution_count": null,
   "metadata": {},
   "outputs": [],
   "source": []
  },
  {
   "cell_type": "code",
   "execution_count": 89,
   "metadata": {},
   "outputs": [
    {
     "data": {
      "image/png": "[encoded data removed]",
      "text/plain": [
       "<Figure size 432x288 with 1 Axes>"
      ]
     },
     "metadata": {
      "needs_background": "light"
     },
     "output_type": "display_data"
    }
   ],
   "source": [
    "x = df[\"Distance\"]\n",
    "y = df[\"Price\"]\n",
    "plt.scatter(x,y)\n",
    "plt.xlabel(\"Distance\")\n",
    "plt.ylabel(\"Price\")\n",
    "plt.show()"
   ]
  },
  {
   "cell_type": "code",
   "execution_count": null,
   "metadata": {},
   "outputs": [],
   "source": []
  }
 ],
 "metadata": {
  "kernelspec": {
   "display_name": "Python 3",
   "language": "python",
   "name": "python3"
  },
  "language_info": {
   "codemirror_mode": {
    "name": "ipython",
    "version": 3
   },
   "file_extension": ".py",
   "mimetype": "text/x-python",
   "name": "python",
   "nbconvert_exporter": "python",
   "pygments_lexer": "ipython3",
   "version": "3.7.6"
  }
 },
 "nbformat": 4,
 "nbformat_minor": 4
}
