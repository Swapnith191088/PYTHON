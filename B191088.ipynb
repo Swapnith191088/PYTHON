{
 "cells": [
  {
   "cell_type": "code",
   "execution_count": 2,
   "metadata": {},
   "outputs": [],
   "source": [
    "import pandas as pd\n"
   ]
  },
  {
   "cell_type": "code",
   "execution_count": 3,
   "metadata": {},
   "outputs": [],
   "source": [
    "df = pd.read_csv(\"/home/cse-lab/MELBOURNE_HOUSE_PRICES_LESS.csv\")"
   ]
  },
  {
   "cell_type": "code",
   "execution_count": 4,
   "metadata": {},
   "outputs": [],
   "source": [
    "df = df.dropna()"
   ]
  },
  {
   "cell_type": "code",
   "execution_count": 5,
   "metadata": {
    "scrolled": true
   },
   "outputs": [
    {
     "data": {
      "text/html": [
       "<div>\n",
       "<style scoped>\n",
       "    .dataframe tbody tr th:only-of-type {\n",
       "        vertical-align: middle;\n",
       "    }\n",
       "\n",
       "    .dataframe tbody tr th {\n",
       "        vertical-align: top;\n",
       "    }\n",
       "\n",
       "    .dataframe thead th {\n",
       "        text-align: right;\n",
       "    }\n",
       "</style>\n",
       "<table border=\"1\" class=\"dataframe\">\n",
       "  <thead>\n",
       "    <tr style=\"text-align: right;\">\n",
       "      <th></th>\n",
       "      <th>Suburb</th>\n",
       "      <th>Address</th>\n",
       "      <th>Rooms</th>\n",
       "      <th>Type</th>\n",
       "      <th>Price</th>\n",
       "      <th>Method</th>\n",
       "      <th>SellerG</th>\n",
       "      <th>Date</th>\n",
       "      <th>Postcode</th>\n",
       "      <th>Regionname</th>\n",
       "      <th>Propertycount</th>\n",
       "      <th>Distance</th>\n",
       "      <th>CouncilArea</th>\n",
       "    </tr>\n",
       "  </thead>\n",
       "  <tbody>\n",
       "    <tr>\n",
       "      <th>0</th>\n",
       "      <td>Abbotsford</td>\n",
       "      <td>49 Lithgow St</td>\n",
       "      <td>3</td>\n",
       "      <td>h</td>\n",
       "      <td>1490000.0</td>\n",
       "      <td>S</td>\n",
       "      <td>Jellis</td>\n",
       "      <td>1/04/2017</td>\n",
       "      <td>3067</td>\n",
       "      <td>Northern Metropolitan</td>\n",
       "      <td>4019</td>\n",
       "      <td>3.0</td>\n",
       "      <td>Yarra City Council</td>\n",
       "    </tr>\n",
       "    <tr>\n",
       "      <th>1</th>\n",
       "      <td>Abbotsford</td>\n",
       "      <td>59A Turner St</td>\n",
       "      <td>3</td>\n",
       "      <td>h</td>\n",
       "      <td>1220000.0</td>\n",
       "      <td>S</td>\n",
       "      <td>Marshall</td>\n",
       "      <td>1/04/2017</td>\n",
       "      <td>3067</td>\n",
       "      <td>Northern Metropolitan</td>\n",
       "      <td>4019</td>\n",
       "      <td>3.0</td>\n",
       "      <td>Yarra City Council</td>\n",
       "    </tr>\n",
       "    <tr>\n",
       "      <th>2</th>\n",
       "      <td>Abbotsford</td>\n",
       "      <td>119B Yarra St</td>\n",
       "      <td>3</td>\n",
       "      <td>h</td>\n",
       "      <td>1420000.0</td>\n",
       "      <td>S</td>\n",
       "      <td>Nelson</td>\n",
       "      <td>1/04/2017</td>\n",
       "      <td>3067</td>\n",
       "      <td>Northern Metropolitan</td>\n",
       "      <td>4019</td>\n",
       "      <td>3.0</td>\n",
       "      <td>Yarra City Council</td>\n",
       "    </tr>\n",
       "    <tr>\n",
       "      <th>3</th>\n",
       "      <td>Aberfeldie</td>\n",
       "      <td>68 Vida St</td>\n",
       "      <td>3</td>\n",
       "      <td>h</td>\n",
       "      <td>1515000.0</td>\n",
       "      <td>S</td>\n",
       "      <td>Barry</td>\n",
       "      <td>1/04/2017</td>\n",
       "      <td>3040</td>\n",
       "      <td>Western Metropolitan</td>\n",
       "      <td>1543</td>\n",
       "      <td>7.5</td>\n",
       "      <td>Moonee Valley City Council</td>\n",
       "    </tr>\n",
       "    <tr>\n",
       "      <th>4</th>\n",
       "      <td>Airport West</td>\n",
       "      <td>92 Clydesdale Rd</td>\n",
       "      <td>2</td>\n",
       "      <td>h</td>\n",
       "      <td>670000.0</td>\n",
       "      <td>S</td>\n",
       "      <td>Nelson</td>\n",
       "      <td>1/04/2017</td>\n",
       "      <td>3042</td>\n",
       "      <td>Western Metropolitan</td>\n",
       "      <td>3464</td>\n",
       "      <td>10.4</td>\n",
       "      <td>Moonee Valley City Council</td>\n",
       "    </tr>\n",
       "    <tr>\n",
       "      <th>5</th>\n",
       "      <td>Airport West</td>\n",
       "      <td>4/32 Earl St</td>\n",
       "      <td>2</td>\n",
       "      <td>t</td>\n",
       "      <td>530000.0</td>\n",
       "      <td>S</td>\n",
       "      <td>Jellis</td>\n",
       "      <td>1/04/2017</td>\n",
       "      <td>3042</td>\n",
       "      <td>Western Metropolitan</td>\n",
       "      <td>3464</td>\n",
       "      <td>10.4</td>\n",
       "      <td>Moonee Valley City Council</td>\n",
       "    </tr>\n",
       "    <tr>\n",
       "      <th>6</th>\n",
       "      <td>Airport West</td>\n",
       "      <td>3/74 Hawker St</td>\n",
       "      <td>2</td>\n",
       "      <td>u</td>\n",
       "      <td>540000.0</td>\n",
       "      <td>S</td>\n",
       "      <td>Barry</td>\n",
       "      <td>1/04/2017</td>\n",
       "      <td>3042</td>\n",
       "      <td>Western Metropolitan</td>\n",
       "      <td>3464</td>\n",
       "      <td>10.4</td>\n",
       "      <td>Moonee Valley City Council</td>\n",
       "    </tr>\n",
       "    <tr>\n",
       "      <th>7</th>\n",
       "      <td>Airport West</td>\n",
       "      <td>1/26 Highridge Cr</td>\n",
       "      <td>3</td>\n",
       "      <td>h</td>\n",
       "      <td>715000.0</td>\n",
       "      <td>SP</td>\n",
       "      <td>Nelson</td>\n",
       "      <td>1/04/2017</td>\n",
       "      <td>3042</td>\n",
       "      <td>Western Metropolitan</td>\n",
       "      <td>3464</td>\n",
       "      <td>10.4</td>\n",
       "      <td>Moonee Valley City Council</td>\n",
       "    </tr>\n",
       "    <tr>\n",
       "      <th>9</th>\n",
       "      <td>Albert Park</td>\n",
       "      <td>18 Mills St</td>\n",
       "      <td>3</td>\n",
       "      <td>h</td>\n",
       "      <td>1925000.0</td>\n",
       "      <td>S</td>\n",
       "      <td>Cayzer</td>\n",
       "      <td>1/04/2017</td>\n",
       "      <td>3206</td>\n",
       "      <td>Southern Metropolitan</td>\n",
       "      <td>3280</td>\n",
       "      <td>3.0</td>\n",
       "      <td>Port Phillip City Council</td>\n",
       "    </tr>\n",
       "    <tr>\n",
       "      <th>10</th>\n",
       "      <td>Albion</td>\n",
       "      <td>3/15 Drummartin St</td>\n",
       "      <td>3</td>\n",
       "      <td>u</td>\n",
       "      <td>515000.0</td>\n",
       "      <td>S</td>\n",
       "      <td>Douglas</td>\n",
       "      <td>1/04/2017</td>\n",
       "      <td>3020</td>\n",
       "      <td>Western Metropolitan</td>\n",
       "      <td>2185</td>\n",
       "      <td>10.5</td>\n",
       "      <td>Brimbank City Council</td>\n",
       "    </tr>\n",
       "  </tbody>\n",
       "</table>\n",
       "</div>"
      ],
      "text/plain": [
       "          Suburb             Address  Rooms Type      Price Method   SellerG  \\\n",
       "0     Abbotsford       49 Lithgow St      3    h  1490000.0      S    Jellis   \n",
       "1     Abbotsford       59A Turner St      3    h  1220000.0      S  Marshall   \n",
       "2     Abbotsford       119B Yarra St      3    h  1420000.0      S    Nelson   \n",
       "3     Aberfeldie          68 Vida St      3    h  1515000.0      S     Barry   \n",
       "4   Airport West    92 Clydesdale Rd      2    h   670000.0      S    Nelson   \n",
       "5   Airport West        4/32 Earl St      2    t   530000.0      S    Jellis   \n",
       "6   Airport West      3/74 Hawker St      2    u   540000.0      S     Barry   \n",
       "7   Airport West   1/26 Highridge Cr      3    h   715000.0     SP    Nelson   \n",
       "9    Albert Park         18 Mills St      3    h  1925000.0      S    Cayzer   \n",
       "10        Albion  3/15 Drummartin St      3    u   515000.0      S   Douglas   \n",
       "\n",
       "         Date  Postcode             Regionname  Propertycount  Distance  \\\n",
       "0   1/04/2017      3067  Northern Metropolitan           4019       3.0   \n",
       "1   1/04/2017      3067  Northern Metropolitan           4019       3.0   \n",
       "2   1/04/2017      3067  Northern Metropolitan           4019       3.0   \n",
       "3   1/04/2017      3040   Western Metropolitan           1543       7.5   \n",
       "4   1/04/2017      3042   Western Metropolitan           3464      10.4   \n",
       "5   1/04/2017      3042   Western Metropolitan           3464      10.4   \n",
       "6   1/04/2017      3042   Western Metropolitan           3464      10.4   \n",
       "7   1/04/2017      3042   Western Metropolitan           3464      10.4   \n",
       "9   1/04/2017      3206  Southern Metropolitan           3280       3.0   \n",
       "10  1/04/2017      3020   Western Metropolitan           2185      10.5   \n",
       "\n",
       "                   CouncilArea  \n",
       "0           Yarra City Council  \n",
       "1           Yarra City Council  \n",
       "2           Yarra City Council  \n",
       "3   Moonee Valley City Council  \n",
       "4   Moonee Valley City Council  \n",
       "5   Moonee Valley City Council  \n",
       "6   Moonee Valley City Council  \n",
       "7   Moonee Valley City Council  \n",
       "9    Port Phillip City Council  \n",
       "10       Brimbank City Council  "
      ]
     },
     "execution_count": 5,
     "metadata": {},
     "output_type": "execute_result"
    }
   ],
   "source": [
    "df.head(10)"
   ]
  },
  {
   "cell_type": "code",
   "execution_count": 6,
   "metadata": {},
   "outputs": [
    {
     "name": "stdout",
     "output_type": "stream",
     "text": [
      "(48433, 13)\n",
      "Index(['Suburb', 'Address', 'Rooms', 'Type', 'Price', 'Method', 'SellerG',\n",
      "       'Date', 'Postcode', 'Regionname', 'Propertycount', 'Distance',\n",
      "       'CouncilArea'],\n",
      "      dtype='object')\n"
     ]
    }
   ],
   "source": [
    "print(df.shape)\n",
    "print(df.columns)"
   ]
  },
  {
   "cell_type": "code",
   "execution_count": 7,
   "metadata": {},
   "outputs": [
    {
     "name": "stdout",
     "output_type": "stream",
     "text": [
      "0        1490000.0\n",
      "1        1220000.0\n",
      "2        1420000.0\n",
      "3        1515000.0\n",
      "4         670000.0\n",
      "           ...    \n",
      "63016     347700.0\n",
      "63017     808000.0\n",
      "63018     566000.0\n",
      "63019     500000.0\n",
      "63020     545000.0\n",
      "Name: Price, Length: 48433, dtype: float64\n"
     ]
    }
   ],
   "source": [
    "price = df[\"Price\"]\n",
    "print(price)"
   ]
  },
  {
   "cell_type": "code",
   "execution_count": 8,
   "metadata": {},
   "outputs": [
    {
     "name": "stdout",
     "output_type": "stream",
     "text": [
      "0           Abbotsford\n",
      "1           Abbotsford\n",
      "2           Abbotsford\n",
      "3           Aberfeldie\n",
      "4         Airport West\n",
      "             ...      \n",
      "63016        Frankston\n",
      "63017          Preston\n",
      "63018    Roxburgh Park\n",
      "63019    Roxburgh Park\n",
      "63020    Roxburgh Park\n",
      "Name: Suburb, Length: 48433, dtype: object\n"
     ]
    }
   ],
   "source": [
    "suburb = df[\"Suburb\"]\n",
    "print(suburb)"
   ]
  },
  {
   "cell_type": "code",
   "execution_count": 9,
   "metadata": {},
   "outputs": [
    {
     "data": {
      "text/plain": [
       "{'Reservoir': 1067,\n",
       " 'Bentleigh East': 696,\n",
       " 'Richmond': 642,\n",
       " 'Craigieburn': 598,\n",
       " 'Preston': 593,\n",
       " 'Mount Waverley': 556,\n",
       " 'Brunswick': 540,\n",
       " 'Northcote': 496,\n",
       " 'Cheltenham': 493,\n",
       " 'Glen Waverley': 486,\n",
       " 'Essendon': 485,\n",
       " 'Glenroy': 482,\n",
       " 'Coburg': 464,\n",
       " 'Mill Park': 454,\n",
       " 'South Yarra': 436,\n",
       " 'Glen Iris': 434,\n",
       " 'Pascoe Vale': 433,\n",
       " 'Bundoora': 431,\n",
       " 'Kew': 430,\n",
       " 'Hawthorn': 429,\n",
       " 'Epping': 421,\n",
       " 'St Kilda': 410,\n",
       " 'Balwyn North': 407,\n",
       " 'Brighton': 404,\n",
       " 'Thornbury': 394,\n",
       " 'Doncaster East': 393,\n",
       " 'Hoppers Crossing': 381,\n",
       " 'Bentleigh': 378,\n",
       " 'Camberwell': 376,\n",
       " 'Brighton East': 366,\n",
       " 'Port Melbourne': 362,\n",
       " 'Greensborough': 357,\n",
       " 'Yarraville': 351,\n",
       " 'Moonee Ponds': 322,\n",
       " 'Werribee': 319,\n",
       " 'Malvern East': 314,\n",
       " 'Ascot Vale': 313,\n",
       " 'Mentone': 313,\n",
       " 'Mitcham': 308,\n",
       " 'Prahran': 307,\n",
       " 'Carnegie': 307,\n",
       " 'Footscray': 304,\n",
       " 'Keilor East': 304,\n",
       " 'Balwyn': 299,\n",
       " 'Lalor': 297,\n",
       " 'Mulgrave': 297,\n",
       " 'Frankston': 292,\n",
       " 'Newport': 290,\n",
       " 'Brunswick West': 289,\n",
       " 'Hampton': 288,\n",
       " 'Elwood': 282,\n",
       " 'Doncaster': 278,\n",
       " 'Surrey Hills': 277,\n",
       " 'Thomastown': 273,\n",
       " 'Parkdale': 272,\n",
       " 'Sunshine West': 270,\n",
       " 'Maribyrnong': 269,\n",
       " 'Highett': 264,\n",
       " 'St Albans': 261,\n",
       " 'Fawkner': 259,\n",
       " 'South Morang': 256,\n",
       " 'Williamstown': 254,\n",
       " 'Kensington': 253,\n",
       " 'Hawthorn East': 252,\n",
       " 'Beaumaris': 245,\n",
       " 'Sunbury': 244,\n",
       " 'West Footscray': 243,\n",
       " 'Croydon': 237,\n",
       " 'Toorak': 235,\n",
       " 'Templestowe Lower': 232,\n",
       " 'Fitzroy North': 231,\n",
       " 'Sunshine': 229,\n",
       " 'Ivanhoe': 227,\n",
       " 'Blackburn': 226,\n",
       " 'Mernda': 225,\n",
       " 'Strathmore': 223,\n",
       " 'Ringwood': 223,\n",
       " 'Roxburgh Park': 219,\n",
       " 'Burwood': 218,\n",
       " 'Maidstone': 217,\n",
       " 'Greenvale': 215,\n",
       " 'Broadmeadows': 215,\n",
       " 'Eltham': 211,\n",
       " 'Templestowe': 209,\n",
       " 'Melbourne': 207,\n",
       " 'Airport West': 206,\n",
       " 'Sandringham': 204,\n",
       " 'Armadale': 202,\n",
       " 'Hillside': 200,\n",
       " 'Brunswick East': 197,\n",
       " 'South Melbourne': 197,\n",
       " 'Point Cook': 197,\n",
       " 'Coburg North': 194,\n",
       " 'Avondale Heights': 194,\n",
       " 'Montmorency': 192,\n",
       " 'Murrumbeena': 191,\n",
       " 'Wheelers Hill': 186,\n",
       " 'Nunawading': 184,\n",
       " 'Dingley Village': 183,\n",
       " 'Niddrie': 179,\n",
       " 'Heidelberg Heights': 178,\n",
       " 'Sunshine North': 178,\n",
       " 'Bulleen': 177,\n",
       " 'Altona North': 171,\n",
       " 'Gladstone Park': 171,\n",
       " 'Ormond': 169,\n",
       " 'Taylors Lakes': 163,\n",
       " 'Elsternwick': 162,\n",
       " 'Blackburn South': 161,\n",
       " 'Tullamarine': 161,\n",
       " 'Mordialloc': 159,\n",
       " 'MacLeod': 157,\n",
       " 'Malvern': 157,\n",
       " 'Forest Hill': 156,\n",
       " 'Oak Park': 155,\n",
       " 'Fitzroy': 154,\n",
       " 'North Melbourne': 153,\n",
       " 'Clifton Hill': 151,\n",
       " 'Donvale': 151,\n",
       " 'Oakleigh South': 150,\n",
       " 'Ashburton': 150,\n",
       " 'Moorabbin': 147,\n",
       " 'Heidelberg West': 147,\n",
       " 'Rosanna': 146,\n",
       " 'Kew East': 145,\n",
       " 'Altona': 142,\n",
       " 'Abbotsford': 142,\n",
       " 'Blackburn North': 139,\n",
       " 'Collingwood': 138,\n",
       " 'Noble Park': 137,\n",
       " 'Wantirna South': 135,\n",
       " 'Ashwood': 135,\n",
       " 'Seddon': 133,\n",
       " 'Ringwood East': 131,\n",
       " 'Albert Park': 128,\n",
       " 'Keilor Downs': 128,\n",
       " 'Wollert': 127,\n",
       " 'Ferntree Gully': 126,\n",
       " 'Flemington': 125,\n",
       " 'Braybrook': 125,\n",
       " 'Burwood East': 124,\n",
       " 'Caulfield South': 124,\n",
       " 'Seaford': 123,\n",
       " 'Clayton': 123,\n",
       " 'Watsonia': 120,\n",
       " 'Fairfield': 120,\n",
       " 'Carlton': 120,\n",
       " 'Carlton North': 119,\n",
       " 'Hadfield': 119,\n",
       " 'Wyndham Vale': 119,\n",
       " 'Clayton South': 118,\n",
       " 'Edithvale': 117,\n",
       " 'Wantirna': 116,\n",
       " 'Sydenham': 116,\n",
       " 'Dandenong North': 116,\n",
       " 'Black Rock': 116,\n",
       " 'Canterbury': 116,\n",
       " 'Box Hill': 116,\n",
       " 'Hampton East': 115,\n",
       " 'Westmeadows': 114,\n",
       " 'Vermont': 114,\n",
       " 'Chadstone': 112,\n",
       " 'Windsor': 112,\n",
       " 'Doreen': 109,\n",
       " 'Tarneit': 108,\n",
       " 'Springvale': 108,\n",
       " 'Heidelberg': 108,\n",
       " 'Dandenong': 108,\n",
       " 'Viewbank': 108,\n",
       " 'Frankston South': 107,\n",
       " 'Mont Albert': 104,\n",
       " 'Taylors Hill': 104,\n",
       " 'Boronia': 103,\n",
       " 'Chelsea': 103,\n",
       " 'Heathmont': 102,\n",
       " 'McKinnon': 102,\n",
       " 'Deer Park': 101,\n",
       " 'Melton South': 100,\n",
       " 'Oakleigh': 100,\n",
       " 'Aspendale': 98,\n",
       " 'Aberfeldie': 95,\n",
       " 'Bayswater': 92,\n",
       " 'Kingsville': 92,\n",
       " 'Keysborough': 91,\n",
       " 'Vermont South': 90,\n",
       " 'Albion': 90,\n",
       " 'Berwick': 90,\n",
       " 'Oakleigh East': 90,\n",
       " 'Caulfield North': 89,\n",
       " 'Ardeer': 89,\n",
       " 'Mooroolbark': 86,\n",
       " 'Southbank': 85,\n",
       " 'Alphington': 85,\n",
       " 'Meadow Heights': 84,\n",
       " 'Rowville': 82,\n",
       " 'Caroline Springs': 80,\n",
       " 'Gisborne': 77,\n",
       " 'Balaclava': 76,\n",
       " 'Clarinda': 74,\n",
       " 'Gowanbrae': 73,\n",
       " 'Diamond Creek': 73,\n",
       " 'Carrum': 73,\n",
       " 'Hughesdale': 72,\n",
       " 'Eltham North': 71,\n",
       " 'Parkville': 70,\n",
       " 'Glen Huntly': 70,\n",
       " 'Ringwood North': 69,\n",
       " 'Yallambie': 69,\n",
       " 'Spotswood': 67,\n",
       " 'Briar Hill': 67,\n",
       " 'Altona Meadows': 67,\n",
       " 'Jacana': 66,\n",
       " 'Ivanhoe East': 66,\n",
       " 'West Melbourne': 65,\n",
       " 'Keilor': 64,\n",
       " 'Middle Park': 64,\n",
       " 'Dallas': 63,\n",
       " 'Bonbeach': 62,\n",
       " 'Delahey': 60,\n",
       " 'Melton': 60,\n",
       " 'Essendon North': 59,\n",
       " 'Watsonia North': 58,\n",
       " 'Carrum Downs': 58,\n",
       " 'Endeavour Hills': 57,\n",
       " 'Lower Plenty': 57,\n",
       " 'Melton West': 56,\n",
       " 'Eaglemont': 52,\n",
       " 'Cremorne': 51,\n",
       " 'East Melbourne': 51,\n",
       " 'Aspendale Gardens': 51,\n",
       " 'Brooklyn': 50,\n",
       " 'Kings Park': 50,\n",
       " 'Essendon West': 49,\n",
       " 'Kingsbury': 49,\n",
       " 'Keilor Park': 48,\n",
       " 'Narre Warren': 48,\n",
       " 'Kealba': 45,\n",
       " 'Croydon North': 45,\n",
       " 'Truganina': 44,\n",
       " 'Doveton': 43,\n",
       " 'Knoxfield': 43,\n",
       " 'South Kingsville': 42,\n",
       " 'Bayswater North': 42,\n",
       " 'Chelsea Heights': 41,\n",
       " 'Kilsyth': 41,\n",
       " 'Cairnlea': 40,\n",
       " 'Derrimut': 40,\n",
       " 'Bellfield': 39,\n",
       " 'Huntingdale': 39,\n",
       " 'Scoresby': 38,\n",
       " 'Attwood': 36,\n",
       " 'Deepdene': 36,\n",
       " 'Springvale South': 36,\n",
       " 'Patterson Lakes': 34,\n",
       " 'Mickleham': 34,\n",
       " 'Croydon South': 32,\n",
       " 'Langwarrin': 31,\n",
       " 'Williamstown North': 31,\n",
       " 'Pakenham': 30,\n",
       " 'Wallan': 29,\n",
       " 'Frankston North': 29,\n",
       " 'Warrandyte': 29,\n",
       " 'Seaholme': 28,\n",
       " 'Notting Hill': 28,\n",
       " 'Kurunjang': 28,\n",
       " 'Burnside Heights': 26,\n",
       " 'Princes Hill': 26,\n",
       " 'St Helena': 24,\n",
       " 'Croydon Hills': 24,\n",
       " 'Caulfield East': 24,\n",
       " 'Plumpton': 23,\n",
       " 'Chirnside Park': 23,\n",
       " 'Caulfield': 23,\n",
       " 'Ripponlea': 22,\n",
       " 'Campbellfield': 21,\n",
       " 'Cranbourne': 21,\n",
       " 'Albanvale': 20,\n",
       " 'Strathmore Heights': 19,\n",
       " 'Travancore': 19,\n",
       " 'Hampton Park': 19,\n",
       " 'Research': 18,\n",
       " 'Williams Landing': 18,\n",
       " 'Gardenvale': 16,\n",
       " 'Macleod': 16,\n",
       " 'Lilydale': 16,\n",
       " 'Burnley': 16,\n",
       " 'Coolaroo': 15,\n",
       " 'Heatherton': 15,\n",
       " 'Waterways': 15,\n",
       " 'Riddells Creek': 14,\n",
       " 'New Gisborne': 13,\n",
       " 'Keilor Lodge': 13,\n",
       " 'Kooyong': 13,\n",
       " 'Laverton': 12,\n",
       " 'Warranwood': 12,\n",
       " 'The Basin': 12,\n",
       " 'Hallam': 12,\n",
       " 'Cranbourne West': 12,\n",
       " 'Burnside': 12,\n",
       " 'North Warrandyte': 11,\n",
       " 'Plenty': 11,\n",
       " 'Cranbourne North': 10,\n",
       " 'Skye': 10,\n",
       " 'Manor Lakes': 10,\n",
       " 'Docklands': 9,\n",
       " 'Bacchus Marsh': 9,\n",
       " 'Diggers Rest': 8,\n",
       " 'Wattle Glen': 8,\n",
       " 'Cranbourne East': 8,\n",
       " 'Seabrook': 8,\n",
       " 'Rockbank': 8,\n",
       " 'Mount Evelyn': 8,\n",
       " 'Brookfield': 8,\n",
       " 'Eumemmerring': 8,\n",
       " 'Beaconsfield': 7,\n",
       " 'Emerald': 6,\n",
       " 'Sandhurst': 6,\n",
       " 'Whittlesea': 6,\n",
       " 'Healesville': 6,\n",
       " 'Bullengarook': 5,\n",
       " 'Montrose': 5,\n",
       " 'Officer': 5,\n",
       " 'Wonga Park': 5,\n",
       " 'Hurstbridge': 5,\n",
       " 'Gisborne South': 4,\n",
       " 'Lynbrook': 4,\n",
       " 'Oaklands Junction': 4,\n",
       " 'Tecoma': 4,\n",
       " 'Upwey': 4,\n",
       " 'Clyde North': 3,\n",
       " 'Kalkallo': 3,\n",
       " 'Beaconsfield Upper': 3,\n",
       " 'Silvan': 3,\n",
       " 'Lysterfield': 3,\n",
       " 'Botanic Ridge': 3,\n",
       " 'Eynesbury': 3,\n",
       " 'Bulla': 3,\n",
       " 'Yarra Glen': 3,\n",
       " 'Ferny Creek': 2,\n",
       " 'Lyndhurst': 2,\n",
       " 'Kilsyth South': 2,\n",
       " 'Cranbourne South': 2,\n",
       " 'Panton Hill': 2,\n",
       " 'Werribee South': 2,\n",
       " 'Park Orchards': 2,\n",
       " 'Monbulk': 2,\n",
       " 'Coldstream': 1,\n",
       " 'croydon': 1,\n",
       " 'Belgrave': 1,\n",
       " 'Darley': 1,\n",
       " 'Kalorama': 1,\n",
       " 'Yarra Junction': 1,\n",
       " 'Wildwood': 1,\n",
       " 'Don Valley': 1,\n",
       " 'Mount Dandenong': 1,\n",
       " 'Belgrave Heights': 1,\n",
       " 'Warneet': 1,\n",
       " 'Wandin North': 1,\n",
       " 'Castella': 1,\n",
       " 'Woori Yallock': 1,\n",
       " 'Warrandyte South': 1,\n",
       " 'Yan Yean': 1,\n",
       " 'Kallista': 1,\n",
       " 'Cockatoo': 1,\n",
       " 'Seville': 1,\n",
       " 'Olinda': 1,\n",
       " 'Belgrave South': 1,\n",
       " 'Pentland Hills': 1,\n",
       " 'Chintin': 1,\n",
       " 'viewbank': 1}"
      ]
     },
     "execution_count": 9,
     "metadata": {},
     "output_type": "execute_result"
    }
   ],
   "source": [
    "suburb_counts = suburb.value_counts()\n",
    "#print(dict(suburb_counts))\n",
    "dict(suburb_counts)"
   ]
  },
  {
   "cell_type": "code",
   "execution_count": 10,
   "metadata": {},
   "outputs": [],
   "source": [
    "rooms = df[\"Rooms\"]"
   ]
  },
  {
   "cell_type": "code",
   "execution_count": 11,
   "metadata": {},
   "outputs": [
    {
     "name": "stdout",
     "output_type": "stream",
     "text": [
      "997898.2414882415\n",
      "830000.0\n",
      "0    600000.0\n",
      "dtype: float64\n",
      "593498.9190372757\n"
     ]
    }
   ],
   "source": [
    "#print(\"Hello\")\n",
    "print(price.mean())\n",
    "print(price.median())\n",
    "print(price.mode())\n",
    "print(price.std())"
   ]
  },
  {
   "cell_type": "code",
   "execution_count": null,
   "metadata": {},
   "outputs": [],
   "source": []
  },
  {
   "cell_type": "code",
   "execution_count": 12,
   "metadata": {},
   "outputs": [
    {
     "name": "stdout",
     "output_type": "stream",
     "text": [
      "3.0716660128424835\n",
      "3.0\n",
      "0    3\n",
      "dtype: int64\n"
     ]
    }
   ],
   "source": [
    "print(rooms.mean())\n",
    "print(rooms.median())\n",
    "print(rooms.mode())"
   ]
  },
  {
   "cell_type": "code",
   "execution_count": 13,
   "metadata": {},
   "outputs": [
    {
     "name": "stdout",
     "output_type": "stream",
     "text": [
      "{3: 21812, 4: 11576, 2: 10674, 5: 2350, 1: 1670, 6: 283, 7: 36, 8: 19, 10: 6, 12: 2, 9: 2, 31: 1, 16: 1, 11: 1}\n"
     ]
    }
   ],
   "source": [
    "rooms_count = df[\"Rooms\"].value_counts()\n",
    "rooms_count = dict(rooms_count)\n",
    "print(rooms_count)"
   ]
  },
  {
   "cell_type": "code",
   "execution_count": 14,
   "metadata": {},
   "outputs": [],
   "source": [
    "r = rooms_count.keys()\n",
    "c = rooms_count.values()"
   ]
  },
  {
   "cell_type": "code",
   "execution_count": 15,
   "metadata": {},
   "outputs": [
    {
     "name": "stdout",
     "output_type": "stream",
     "text": [
      "0    Reservoir\n",
      "dtype: object\n"
     ]
    }
   ],
   "source": [
    "print(suburb.mode())"
   ]
  },
  {
   "cell_type": "code",
   "execution_count": 16,
   "metadata": {},
   "outputs": [
    {
     "name": "stdout",
     "output_type": "stream",
     "text": [
      "/home/cse-lab/Desktop/B191088\r\n"
     ]
    }
   ],
   "source": [
    "!pwd"
   ]
  },
  {
   "cell_type": "code",
   "execution_count": 17,
   "metadata": {},
   "outputs": [
    {
     "name": "stdout",
     "output_type": "stream",
     "text": [
      "B191088.ipynb  MELBOURNE_HOUSE_PRICES_LESS.csv\r\n"
     ]
    }
   ],
   "source": [
    "!ls"
   ]
  },
  {
   "cell_type": "code",
   "execution_count": 18,
   "metadata": {},
   "outputs": [],
   "source": [
    "import matplotlib.pyplot as plt"
   ]
  },
  {
   "cell_type": "code",
   "execution_count": 19,
   "metadata": {},
   "outputs": [
    {
     "data": {
      "image/png": "[encoded data removed]",
      "text/plain": [
       "<Figure size 432x288 with 1 Axes>"
      ]
     },
     "metadata": {
      "needs_background": "light"
     },
     "output_type": "display_data"
    }
   ],
   "source": [
    "plt.hist(price)\n",
    "plt.show()"
   ]
  },
  {
   "cell_type": "code",
   "execution_count": 20,
   "metadata": {},
   "outputs": [
    {
     "data": {
      "image/png": "[encoded data removed]",
      "text/plain": [
       "<Figure size 432x288 with 1 Axes>"
      ]
     },
     "metadata": {
      "needs_background": "light"
     },
     "output_type": "display_data"
    }
   ],
   "source": [
    "plt.hist(suburb)\n",
    "plt.show()"
   ]
  },
  {
   "cell_type": "code",
   "execution_count": 21,
   "metadata": {},
   "outputs": [
    {
     "data": {
      "image/png": "[encoded data removed]",
      "text/plain": [
       "<Figure size 432x288 with 1 Axes>"
      ]
     },
     "metadata": {
      "needs_background": "light"
     },
     "output_type": "display_data"
    }
   ],
   "source": [
    "plt.bar(x=r, height=c)\n",
    "plt.show()"
   ]
  },
  {
   "cell_type": "code",
   "execution_count": 22,
   "metadata": {},
   "outputs": [
    {
     "name": "stdout",
     "output_type": "stream",
     "text": [
      "dict_keys(['h', 'u', 't'])\n",
      "dict_values([34161, 9292, 4980])\n"
     ]
    }
   ],
   "source": [
    "type = df[\"Type\"].value_counts()\n",
    "type = dict(type)\n",
    "type_keys = type.keys()\n",
    "type_values = type.values()\n",
    "print(type_keys)\n",
    "print(type_values)"
   ]
  },
  {
   "cell_type": "code",
   "execution_count": 23,
   "metadata": {},
   "outputs": [
    {
     "data": {
      "image/png": "[encoded data removed]",
      "text/plain": [
       "<Figure size 432x288 with 1 Axes>"
      ]
     },
     "metadata": {
      "needs_background": "light"
     },
     "output_type": "display_data"
    }
   ],
   "source": [
    "plt.bar(x = type_values, height = type_values)\n",
    "plt.title(\"Room Types\")\n",
    "plt.show()"
   ]
  },
  {
   "cell_type": "code",
   "execution_count": 24,
   "metadata": {},
   "outputs": [
    {
     "data": {
      "image/png": "[encoded data removed]",
      "text/plain": [
       "<Figure size 720x720 with 1 Axes>"
      ]
     },
     "metadata": {},
     "output_type": "display_data"
    }
   ],
   "source": [
    "region_name = df[\"Regionname\"].value_counts()\n",
    "region_name = dict(region_name)\n",
    "region_keys = region_name.keys()\n",
    "region_values = region_name.values()\n",
    "fig = plt.figure(figsize = (10,10))\n",
    "plt.pie(x=region_values, labels = region_keys, explode = [0.2,0.0,0.0,0.0,0.0,0.0,0.0,0.0])\n",
    "plt.title(\"Region Names\")\n",
    "plt.legend()\n",
    "plt.show()"
   ]
  },
  {
   "cell_type": "code",
   "execution_count": 25,
   "metadata": {},
   "outputs": [
    {
     "data": {
      "image/png": "[encoded data removed]",
      "text/plain": [
       "<Figure size 720x720 with 1 Axes>"
      ]
     },
     "metadata": {},
     "output_type": "display_data"
    }
   ],
   "source": [
    "region_values = region_name.values()\n",
    "fig = plt.figure(figsize = (10,10))\n",
    "plt.pie(x=type_values, labels = type_keys, explode = [0.0,0.0,0.0])\n",
    "plt.title(\"House Types\")\n",
    "plt.legend()\n",
    "plt.show()"
   ]
  },
  {
   "cell_type": "code",
   "execution_count": null,
   "metadata": {},
   "outputs": [],
   "source": []
  },
  {
   "cell_type": "code",
   "execution_count": 26,
   "metadata": {},
   "outputs": [
    {
     "data": {
      "image/png": "[encoded data removed]",
      "text/plain": [
       "<Figure size 432x288 with 1 Axes>"
      ]
     },
     "metadata": {
      "needs_background": "light"
     },
     "output_type": "display_data"
    }
   ],
   "source": [
    "x = df[\"Distance\"]\n",
    "y = df[\"Price\"]\n",
    "plt.scatter(x,y)\n",
    "plt.xlabel(\"Distance\")\n",
    "plt.ylabel(\"Price\")\n",
    "plt.show()"
   ]
  },
  {
   "cell_type": "code",
   "execution_count": null,
   "metadata": {},
   "outputs": [],
   "source": []
  },
  {
   "cell_type": "code",
   "execution_count": null,
   "metadata": {},
   "outputs": [],
   "source": []
  },
  {
   "cell_type": "code",
   "execution_count": null,
   "metadata": {},
   "outputs": [],
   "source": []
  },
  {
   "cell_type": "code",
   "execution_count": null,
   "metadata": {},
   "outputs": [],
   "source": []
  },
  {
   "cell_type": "code",
   "execution_count": null,
   "metadata": {},
   "outputs": [],
   "source": []
  },
  {
   "cell_type": "code",
   "execution_count": null,
   "metadata": {},
   "outputs": [],
   "source": []
  },
  {
   "cell_type": "code",
   "execution_count": null,
   "metadata": {},
   "outputs": [],
   "source": []
  }
 ],
 "metadata": {
  "kernelspec": {
   "display_name": "Python 3",
   "language": "python",
   "name": "python3"
  },
  "language_info": {
   "codemirror_mode": {
    "name": "ipython",
    "version": 3
   },
   "file_extension": ".py",
   "mimetype": "text/x-python",
   "name": "python",
   "nbconvert_exporter": "python",
   "pygments_lexer": "ipython3",
   "version": "3.7.6"
  }
 },
 "nbformat": 4,
 "nbformat_minor": 4
}
